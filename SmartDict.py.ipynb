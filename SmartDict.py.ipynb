{
 "cells": [
  {
   "cell_type": "code",
   "execution_count": 1,
   "metadata": {},
   "outputs": [
    {
     "name": "stdout",
     "output_type": "stream",
     "text": [
      "Enter word: krakenn\n",
      "do you mean kraken ? input Y for yes N for no: Y\n",
      "\n",
      "Mythical giant octopus or squid.\n",
      "\n"
     ]
    }
   ],
   "source": [
    "# SMART Dictioary app (for LINUX operating systems)\n",
    "\n",
    "import json\n",
    "from difflib import get_close_matches\n",
    "\n",
    "data = json.load(open(\"data.json\")) ##loading json dictionary dataset in Python as  dictionary\n",
    "\n",
    "def translate(word):\n",
    "    if word.lower() in data:\n",
    "        return(data[word.lower()]) # conditionals for case sensitivity\n",
    "    elif word.title() in data:\n",
    "        return(data[word.title()])\n",
    "    elif word.upper() in data:\n",
    "        return(data[word.upper()])\n",
    "    elif len(get_close_matches(word, data.keys())) > 0: # conditional to recommend the best match \n",
    "        x = input(\"do you mean %s ? input Y for yes N for no: \" % get_close_matches(word, data.keys())[0])\n",
    "        if x == \"Y\":\n",
    "            return data[get_close_matches(word, data.keys())[0]]\n",
    "        elif x == \"N\":\n",
    "            return \"The word doesn't exist. Please double check it\"\n",
    "        else:\n",
    "            return \"We didn't understand your entry\"\n",
    "    else:\n",
    "        return \"The word does not exist. Please double check!\"\n",
    "\n",
    "    \n",
    "searchedword = input(\"Enter word: \") # prompt user for input\n",
    "output = translate(searchedword)\n",
    "\n",
    "if type(output) == list: # optimizing the final output (printing more user-friendly output)\n",
    "    for i in output:\n",
    "        print(\"\\n\" + i + \"\\n\")\n",
    "else:\n",
    "    print(output)"
   ]
  },
  {
   "cell_type": "code",
   "execution_count": null,
   "metadata": {},
   "outputs": [],
   "source": []
  }
 ],
 "metadata": {
  "kernelspec": {
   "display_name": "Python 3",
   "language": "python",
   "name": "python3"
  },
  "language_info": {
   "codemirror_mode": {
    "name": "ipython",
    "version": 3
   },
   "file_extension": ".py",
   "mimetype": "text/x-python",
   "name": "python",
   "nbconvert_exporter": "python",
   "pygments_lexer": "ipython3",
   "version": "3.7.3"
  }
 },
 "nbformat": 4,
 "nbformat_minor": 2
}
